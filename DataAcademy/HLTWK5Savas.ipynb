{
 "cells": [
  {
   "cell_type": "markdown",
   "source": [
    "# Task1\n",
    "Import Pandas\n",
    "Read data from CSV file"
   ],
   "metadata": {
    "collapsed": false
   }
  },
  {
   "cell_type": "code",
   "execution_count": 80,
   "outputs": [
    {
     "name": "stdout",
     "output_type": "stream",
     "text": [
      "      Destinations  Destination Rate  Average Hotel Rate  \\\n",
      "0   United Kingdom                 7                   4   \n",
      "1    United States                 8                   5   \n",
      "2           Turkey                 6                   4   \n",
      "3            Spain                10                   4   \n",
      "4           Canada                 7                   4   \n",
      "5            China                 1                   1   \n",
      "6            Japan                 4                   3   \n",
      "7          Germany                 7                   3   \n",
      "8           Greece                 9                   5   \n",
      "9            India                 3                   1   \n",
      "10           Italy                 9                   5   \n",
      "11     Netherlands                 6                   4   \n",
      "12          France                 6                   4   \n",
      "13      New Zeland                 8                   4   \n",
      "14          Brasil                 7                   3   \n",
      "15    South Africa                 9                   4   \n",
      "\n",
      "    All inclusive Hotels Most visited City  \n",
      "0                     20            London  \n",
      "1                     32          New York  \n",
      "2                     15          Marmaris  \n",
      "3                     35             Ibiza  \n",
      "4                     20           Toronto  \n",
      "5                      7         Hong kong  \n",
      "6                     12             Tokyo  \n",
      "7                     20            Berlin  \n",
      "8                     17            Athens  \n",
      "9                      6         New Delhi  \n",
      "10                    23              Rome  \n",
      "11                    10         Amsterdam  \n",
      "12                    21             Paris  \n",
      "13                    14        Wellington  \n",
      "14                     9               Rio  \n",
      "15                     6         Cape town  \n"
     ]
    }
   ],
   "source": [
    "import pandas as pd\n",
    "\n",
    "holiday_des = pd.read_csv('HolidayDestinations.csv')\n",
    "print(holiday_des)"
   ],
   "metadata": {
    "collapsed": false,
    "pycharm": {
     "name": "#%%\n"
    }
   }
  },
  {
   "cell_type": "markdown",
   "source": [
    "#Task2\n",
    "How many rows and columns are there in your file?"
   ],
   "metadata": {
    "collapsed": false
   }
  },
  {
   "cell_type": "code",
   "execution_count": 81,
   "outputs": [
    {
     "name": "stdout",
     "output_type": "stream",
     "text": [
      "(16, 5)\n"
     ]
    }
   ],
   "source": [
    "print(holiday_des.shape)"
   ],
   "metadata": {
    "collapsed": false,
    "pycharm": {
     "name": "#%%\n"
    }
   }
  },
  {
   "cell_type": "markdown",
   "source": [
    "#tTask3\n",
    "Print row 3-8  using iloc."
   ],
   "metadata": {
    "collapsed": false
   }
  },
  {
   "cell_type": "code",
   "execution_count": 82,
   "outputs": [
    {
     "name": "stdout",
     "output_type": "stream",
     "text": [
      "  Destinations  Destination Rate  Average Hotel Rate  All inclusive Hotels  \\\n",
      "3        Spain                10                   4                    35   \n",
      "4       Canada                 7                   4                    20   \n",
      "5        China                 1                   1                     7   \n",
      "6        Japan                 4                   3                    12   \n",
      "7      Germany                 7                   3                    20   \n",
      "\n",
      "  Most visited City  \n",
      "3             Ibiza  \n",
      "4           Toronto  \n",
      "5         Hong kong  \n",
      "6             Tokyo  \n",
      "7            Berlin  \n"
     ]
    }
   ],
   "source": [
    "print(holiday_des.iloc[3:8])"
   ],
   "metadata": {
    "collapsed": false,
    "pycharm": {
     "name": "#%%\n"
    }
   }
  },
  {
   "cell_type": "markdown",
   "source": [
    "#Task4\n",
    "Print row 3-8 loc."
   ],
   "metadata": {
    "collapsed": false
   }
  },
  {
   "cell_type": "code",
   "execution_count": 83,
   "outputs": [
    {
     "name": "stdout",
     "output_type": "stream",
     "text": [
      "  Destinations  Destination Rate  Average Hotel Rate  All inclusive Hotels  \\\n",
      "3        Spain                10                   4                    35   \n",
      "4       Canada                 7                   4                    20   \n",
      "5        China                 1                   1                     7   \n",
      "6        Japan                 4                   3                    12   \n",
      "7      Germany                 7                   3                    20   \n",
      "8       Greece                 9                   5                    17   \n",
      "\n",
      "  Most visited City  \n",
      "3             Ibiza  \n",
      "4           Toronto  \n",
      "5         Hong kong  \n",
      "6             Tokyo  \n",
      "7            Berlin  \n",
      "8            Athens  \n"
     ]
    }
   ],
   "source": [
    "print(holiday_des.loc[3:8])"
   ],
   "metadata": {
    "collapsed": false,
    "pycharm": {
     "name": "#%%\n"
    }
   }
  },
  {
   "cell_type": "markdown",
   "source": [
    "#Task5\n",
    "Find the mean number of all-inclusive hotels across all destinations."
   ],
   "metadata": {
    "collapsed": false
   }
  },
  {
   "cell_type": "code",
   "execution_count": 84,
   "outputs": [
    {
     "name": "stdout",
     "output_type": "stream",
     "text": [
      "16.6875\n"
     ]
    }
   ],
   "source": [
    "all_inclusive = holiday_des['All inclusive Hotels'].mean()\n",
    "print(all_inclusive)"
   ],
   "metadata": {
    "collapsed": false,
    "pycharm": {
     "name": "#%%\n"
    }
   }
  },
  {
   "cell_type": "markdown",
   "source": [
    "#Task6\n",
    "Find the lowest scoring destination."
   ],
   "metadata": {
    "collapsed": false
   }
  },
  {
   "cell_type": "code",
   "execution_count": 85,
   "outputs": [
    {
     "data": {
      "text/plain": "  Destinations  Destination Rate  Average Hotel Rate  All inclusive Hotels  \\\n5        China                 1                   1                     7   \n\n  Most visited City  \n5         Hong kong  ",
      "text/html": "<div>\n<style scoped>\n    .dataframe tbody tr th:only-of-type {\n        vertical-align: middle;\n    }\n\n    .dataframe tbody tr th {\n        vertical-align: top;\n    }\n\n    .dataframe thead th {\n        text-align: right;\n    }\n</style>\n<table border=\"1\" class=\"dataframe\">\n  <thead>\n    <tr style=\"text-align: right;\">\n      <th></th>\n      <th>Destinations</th>\n      <th>Destination Rate</th>\n      <th>Average Hotel Rate</th>\n      <th>All inclusive Hotels</th>\n      <th>Most visited City</th>\n    </tr>\n  </thead>\n  <tbody>\n    <tr>\n      <th>5</th>\n      <td>China</td>\n      <td>1</td>\n      <td>1</td>\n      <td>7</td>\n      <td>Hong kong</td>\n    </tr>\n  </tbody>\n</table>\n</div>"
     },
     "execution_count": 85,
     "metadata": {},
     "output_type": "execute_result"
    }
   ],
   "source": [
    "holiday_lowest_rate = holiday_des['Destination Rate'] == holiday_des['Destination Rate'].min()\n",
    "holiday_des[holiday_lowest_rate]"
   ],
   "metadata": {
    "collapsed": false,
    "pycharm": {
     "name": "#%%\n"
    }
   }
  },
  {
   "cell_type": "markdown",
   "source": [
    "#Task7\n",
    "Find the highest scoring destination."
   ],
   "metadata": {
    "collapsed": false
   }
  },
  {
   "cell_type": "code",
   "execution_count": 86,
   "outputs": [
    {
     "data": {
      "text/plain": "  Destinations  Destination Rate  Average Hotel Rate  All inclusive Hotels  \\\n3        Spain                10                   4                    35   \n\n  Most visited City  \n3             Ibiza  ",
      "text/html": "<div>\n<style scoped>\n    .dataframe tbody tr th:only-of-type {\n        vertical-align: middle;\n    }\n\n    .dataframe tbody tr th {\n        vertical-align: top;\n    }\n\n    .dataframe thead th {\n        text-align: right;\n    }\n</style>\n<table border=\"1\" class=\"dataframe\">\n  <thead>\n    <tr style=\"text-align: right;\">\n      <th></th>\n      <th>Destinations</th>\n      <th>Destination Rate</th>\n      <th>Average Hotel Rate</th>\n      <th>All inclusive Hotels</th>\n      <th>Most visited City</th>\n    </tr>\n  </thead>\n  <tbody>\n    <tr>\n      <th>3</th>\n      <td>Spain</td>\n      <td>10</td>\n      <td>4</td>\n      <td>35</td>\n      <td>Ibiza</td>\n    </tr>\n  </tbody>\n</table>\n</div>"
     },
     "execution_count": 86,
     "metadata": {},
     "output_type": "execute_result"
    }
   ],
   "source": [
    "holiday_highest_rate = holiday_des['Destination Rate'] == holiday_des['Destination Rate'].max()\n",
    "holiday_des[holiday_highest_rate]"
   ],
   "metadata": {
    "collapsed": false,
    "pycharm": {
     "name": "#%%\n"
    }
   }
  },
  {
   "cell_type": "markdown",
   "source": [
    "#Task8\n",
    "Find all the destinations where there are more than 9 all-inclusive hotels."
   ],
   "metadata": {
    "collapsed": false
   }
  },
  {
   "cell_type": "code",
   "execution_count": 87,
   "outputs": [
    {
     "data": {
      "text/plain": "      Destinations  Destination Rate  Average Hotel Rate  \\\n0   United Kingdom                 7                   4   \n1    United States                 8                   5   \n2           Turkey                 6                   4   \n3            Spain                10                   4   \n4           Canada                 7                   4   \n6            Japan                 4                   3   \n7          Germany                 7                   3   \n8           Greece                 9                   5   \n10           Italy                 9                   5   \n11     Netherlands                 6                   4   \n12          France                 6                   4   \n13      New Zeland                 8                   4   \n\n    All inclusive Hotels Most visited City  \n0                     20            London  \n1                     32          New York  \n2                     15          Marmaris  \n3                     35             Ibiza  \n4                     20           Toronto  \n6                     12             Tokyo  \n7                     20            Berlin  \n8                     17            Athens  \n10                    23              Rome  \n11                    10         Amsterdam  \n12                    21             Paris  \n13                    14        Wellington  ",
      "text/html": "<div>\n<style scoped>\n    .dataframe tbody tr th:only-of-type {\n        vertical-align: middle;\n    }\n\n    .dataframe tbody tr th {\n        vertical-align: top;\n    }\n\n    .dataframe thead th {\n        text-align: right;\n    }\n</style>\n<table border=\"1\" class=\"dataframe\">\n  <thead>\n    <tr style=\"text-align: right;\">\n      <th></th>\n      <th>Destinations</th>\n      <th>Destination Rate</th>\n      <th>Average Hotel Rate</th>\n      <th>All inclusive Hotels</th>\n      <th>Most visited City</th>\n    </tr>\n  </thead>\n  <tbody>\n    <tr>\n      <th>0</th>\n      <td>United Kingdom</td>\n      <td>7</td>\n      <td>4</td>\n      <td>20</td>\n      <td>London</td>\n    </tr>\n    <tr>\n      <th>1</th>\n      <td>United States</td>\n      <td>8</td>\n      <td>5</td>\n      <td>32</td>\n      <td>New York</td>\n    </tr>\n    <tr>\n      <th>2</th>\n      <td>Turkey</td>\n      <td>6</td>\n      <td>4</td>\n      <td>15</td>\n      <td>Marmaris</td>\n    </tr>\n    <tr>\n      <th>3</th>\n      <td>Spain</td>\n      <td>10</td>\n      <td>4</td>\n      <td>35</td>\n      <td>Ibiza</td>\n    </tr>\n    <tr>\n      <th>4</th>\n      <td>Canada</td>\n      <td>7</td>\n      <td>4</td>\n      <td>20</td>\n      <td>Toronto</td>\n    </tr>\n    <tr>\n      <th>6</th>\n      <td>Japan</td>\n      <td>4</td>\n      <td>3</td>\n      <td>12</td>\n      <td>Tokyo</td>\n    </tr>\n    <tr>\n      <th>7</th>\n      <td>Germany</td>\n      <td>7</td>\n      <td>3</td>\n      <td>20</td>\n      <td>Berlin</td>\n    </tr>\n    <tr>\n      <th>8</th>\n      <td>Greece</td>\n      <td>9</td>\n      <td>5</td>\n      <td>17</td>\n      <td>Athens</td>\n    </tr>\n    <tr>\n      <th>10</th>\n      <td>Italy</td>\n      <td>9</td>\n      <td>5</td>\n      <td>23</td>\n      <td>Rome</td>\n    </tr>\n    <tr>\n      <th>11</th>\n      <td>Netherlands</td>\n      <td>6</td>\n      <td>4</td>\n      <td>10</td>\n      <td>Amsterdam</td>\n    </tr>\n    <tr>\n      <th>12</th>\n      <td>France</td>\n      <td>6</td>\n      <td>4</td>\n      <td>21</td>\n      <td>Paris</td>\n    </tr>\n    <tr>\n      <th>13</th>\n      <td>New Zeland</td>\n      <td>8</td>\n      <td>4</td>\n      <td>14</td>\n      <td>Wellington</td>\n    </tr>\n  </tbody>\n</table>\n</div>"
     },
     "execution_count": 87,
     "metadata": {},
     "output_type": "execute_result"
    }
   ],
   "source": [
    "des_over_nine = holiday_des['All inclusive Hotels'] > 9\n",
    "holiday_des[des_over_nine]"
   ],
   "metadata": {
    "collapsed": false,
    "pycharm": {
     "name": "#%%\n"
    }
   }
  },
  {
   "cell_type": "markdown",
   "source": [
    "#Task9\n",
    "Filter the data by score above 8."
   ],
   "metadata": {
    "collapsed": false
   }
  },
  {
   "cell_type": "code",
   "execution_count": 88,
   "outputs": [
    {
     "data": {
      "text/plain": "    Destinations  Destination Rate  Average Hotel Rate  All inclusive Hotels  \\\n3          Spain                10                   4                    35   \n8         Greece                 9                   5                    17   \n10         Italy                 9                   5                    23   \n15  South Africa                 9                   4                     6   \n\n   Most visited City  \n3              Ibiza  \n8             Athens  \n10              Rome  \n15         Cape town  ",
      "text/html": "<div>\n<style scoped>\n    .dataframe tbody tr th:only-of-type {\n        vertical-align: middle;\n    }\n\n    .dataframe tbody tr th {\n        vertical-align: top;\n    }\n\n    .dataframe thead th {\n        text-align: right;\n    }\n</style>\n<table border=\"1\" class=\"dataframe\">\n  <thead>\n    <tr style=\"text-align: right;\">\n      <th></th>\n      <th>Destinations</th>\n      <th>Destination Rate</th>\n      <th>Average Hotel Rate</th>\n      <th>All inclusive Hotels</th>\n      <th>Most visited City</th>\n    </tr>\n  </thead>\n  <tbody>\n    <tr>\n      <th>3</th>\n      <td>Spain</td>\n      <td>10</td>\n      <td>4</td>\n      <td>35</td>\n      <td>Ibiza</td>\n    </tr>\n    <tr>\n      <th>8</th>\n      <td>Greece</td>\n      <td>9</td>\n      <td>5</td>\n      <td>17</td>\n      <td>Athens</td>\n    </tr>\n    <tr>\n      <th>10</th>\n      <td>Italy</td>\n      <td>9</td>\n      <td>5</td>\n      <td>23</td>\n      <td>Rome</td>\n    </tr>\n    <tr>\n      <th>15</th>\n      <td>South Africa</td>\n      <td>9</td>\n      <td>4</td>\n      <td>6</td>\n      <td>Cape town</td>\n    </tr>\n  </tbody>\n</table>\n</div>"
     },
     "execution_count": 88,
     "metadata": {},
     "output_type": "execute_result"
    }
   ],
   "source": [
    "filtered = holiday_des['Destination Rate'] > 8\n",
    "holiday_des[filtered]"
   ],
   "metadata": {
    "collapsed": false,
    "pycharm": {
     "name": "#%%\n"
    }
   }
  },
  {
   "cell_type": "markdown",
   "source": [
    "#Task10\n",
    "Filter the data score below 2 ( I need to know if these destinations should be removed or there is a problem)"
   ],
   "metadata": {
    "collapsed": false
   }
  },
  {
   "cell_type": "code",
   "execution_count": 89,
   "outputs": [
    {
     "data": {
      "text/plain": "  Destinations  Destination Rate  Average Hotel Rate  All inclusive Hotels  \\\n5        China                 1                   1                     7   \n\n  Most visited City  \n5         Hong kong  ",
      "text/html": "<div>\n<style scoped>\n    .dataframe tbody tr th:only-of-type {\n        vertical-align: middle;\n    }\n\n    .dataframe tbody tr th {\n        vertical-align: top;\n    }\n\n    .dataframe thead th {\n        text-align: right;\n    }\n</style>\n<table border=\"1\" class=\"dataframe\">\n  <thead>\n    <tr style=\"text-align: right;\">\n      <th></th>\n      <th>Destinations</th>\n      <th>Destination Rate</th>\n      <th>Average Hotel Rate</th>\n      <th>All inclusive Hotels</th>\n      <th>Most visited City</th>\n    </tr>\n  </thead>\n  <tbody>\n    <tr>\n      <th>5</th>\n      <td>China</td>\n      <td>1</td>\n      <td>1</td>\n      <td>7</td>\n      <td>Hong kong</td>\n    </tr>\n  </tbody>\n</table>\n</div>"
     },
     "execution_count": 89,
     "metadata": {},
     "output_type": "execute_result"
    }
   ],
   "source": [
    "filtered2 = holiday_des['Destination Rate'] < 2\n",
    "holiday_des[filtered2]"
   ],
   "metadata": {
    "collapsed": false,
    "pycharm": {
     "name": "#%%\n"
    }
   }
  },
  {
   "cell_type": "markdown",
   "source": [],
   "metadata": {
    "collapsed": false
   }
  },
  {
   "cell_type": "code",
   "execution_count": 90,
   "outputs": [
    {
     "name": "stdout",
     "output_type": "stream",
     "text": [
      "Object `score` not found.\n"
     ]
    }
   ],
   "source": [
    "#Task11\n",
    "Is there a correlation between number of all-inclusive hotels and score?"
   ],
   "metadata": {
    "collapsed": false,
    "pycharm": {
     "name": "#%%\n"
    }
   }
  },
  {
   "cell_type": "code",
   "execution_count": 91,
   "outputs": [
    {
     "name": "stdout",
     "output_type": "stream",
     "text": [
      "AxesSubplot(0.125,0.125;0.775x0.755)\n"
     ]
    },
    {
     "data": {
      "text/plain": "<Figure size 432x288 with 1 Axes>",
      "image/png": "[encoded data removed]"
     },
     "metadata": {
      "needs_background": "light"
     },
     "output_type": "display_data"
    }
   ],
   "source": [
    "print(holiday_des.plot.scatter(x='Destination Rate', y='All inclusive Hotels'))"
   ],
   "metadata": {
    "collapsed": false,
    "pycharm": {
     "name": "#%%\n"
    }
   }
  },
  {
   "cell_type": "markdown",
   "source": [
    "#Task12\n",
    "Create a data visualisation diagram to show destination and highest scores?"
   ],
   "metadata": {
    "collapsed": false
   }
  },
  {
   "cell_type": "code",
   "execution_count": 92,
   "outputs": [
    {
     "name": "stdout",
     "output_type": "stream",
     "text": [
      "AxesSubplot(0.125,0.125;0.775x0.755)\n"
     ]
    },
    {
     "data": {
      "text/plain": "<Figure size 432x288 with 1 Axes>",
      "image/png": "[encoded data removed]"
     },
     "metadata": {
      "needs_background": "light"
     },
     "output_type": "display_data"
    }
   ],
   "source": [
    "print(holiday_des.plot.bar(x = 'Destinations', y='Destination Rate'))"
   ],
   "metadata": {
    "collapsed": false,
    "pycharm": {
     "name": "#%%\n"
    }
   }
  }
 ],
 "metadata": {
  "kernelspec": {
   "display_name": "Python 3",
   "language": "python",
   "name": "python3"
  },
  "language_info": {
   "codemirror_mode": {
    "name": "ipython",
    "version": 2
   },
   "file_extension": ".py",
   "mimetype": "text/x-python",
   "name": "python",
   "nbconvert_exporter": "python",
   "pygments_lexer": "ipython2",
   "version": "2.7.6"
  }
 },
 "nbformat": 4,
 "nbformat_minor": 0
}
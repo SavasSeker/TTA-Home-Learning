{
 "cells": [
  {
   "cell_type": "markdown",
   "metadata": {},
   "source": [
    "Task 2\n",
    "As an extension to the motorbike task that costs £2000 and loses 10% of its value every year. Set up a function that performs the calculation by passing in parameters. Then using a loop, print the value of the bike every following year until it falls below £1000."
   ]
  },
  {
   "cell_type": "code",
   "execution_count": 33,
   "metadata": {},
   "outputs": [
    {
     "name": "stdout",
     "output_type": "stream",
     "text": [
      "the bike is worth 2000, in 2021\n",
      "the bike is worth 1800.0, in 2022\n",
      "the bike is worth 1620.0, in 2023\n",
      "the bike is worth 1458.0, in 2024\n",
      "the bike is worth 1312.2, in 2025\n",
      "the bike is worth 1180.98, in 2026\n",
      "the bike is worth 1062.882, in 2027\n"
     ]
    },
    {
     "data": {
      "text/plain": [
       "956.5938000000001"
      ]
     },
     "execution_count": 33,
     "metadata": {},
     "output_type": "execute_result"
    }
   ],
   "source": [
    "def calculate(bike_value, current_year):\n",
    "    while bike_value > 1000:\n",
    "      print(f\"the bike is worth {bike_value}, in {current_year}\")\n",
    "      bike_value *= 0.9\n",
    "      current_year += 1\n",
    "    return bike_value\n",
    "\n",
    "calculate(2000,2021)"
   ]
  },
  {
   "cell_type": "markdown",
   "metadata": {},
   "source": [
    "Task 3\n",
    "Write a program which will ask for two numbers from a user. Then offer an option menu to the user giving them a choice of maths operators. Once the user has selected which operator they wish to use, perform the calculation by using a procedure and passing parameters."
   ]
  },
  {
   "cell_type": "code",
   "execution_count": 34,
   "metadata": {},
   "outputs": [
    {
     "name": "stdout",
     "output_type": "stream",
     "text": [
      "100\n"
     ]
    }
   ],
   "source": [
    "user_num1 = int(input('Please select first number: '))\n",
    "user_num2 = int(input('Please select second number: '))\n",
    "user_option = input('''\n",
    "Which math operator Would you wish to use ?\n",
    "(+, - ,/, *, %, **, //) : \n",
    "''')\n",
    "\n",
    "def procedure_name(number_1, number_2, operator):\n",
    "    if operator == '+':\n",
    "        print(number_1 + number_2)\n",
    "    elif operator == '-':\n",
    "        print(number_1 - number_2)\n",
    "    elif operator == '/':\n",
    "        print(number_1 / number_2)\n",
    "    elif operator == '*': \n",
    "        print(number_1 * number_2)\n",
    "    elif operator == '**':\n",
    "        print(number_1 ** number_2)\n",
    "    elif operator == '%':\n",
    "        print(number_1 % number_2)\n",
    "    elif operator ==  '//':\n",
    "        print(number_1 // number_2)\n",
    "    else:\n",
    "        print(\"An appropriate operator was not selected!\")\n",
    "\n",
    "procedure_name(user_num1 ,user_num2,user_option) "
   ]
  },
  {
   "cell_type": "markdown",
   "metadata": {},
   "source": [
    "Create your own Flow Diagram, a subject of your own choice."
   ]
  },
  {
   "cell_type": "code",
   "execution_count": 2,
   "metadata": {},
   "outputs": [
    {
     "name": "stdout",
     "output_type": "stream",
     "text": [
      "What can i get for your please choose from following options:\n",
      "        {'soda', 'chicken strips', 'shake', 'burger', 'cookie', 'fries'} ?\n",
      " Would you like Anything else? YES/NO\n",
      "What can i get for your please choose from following options:\n",
      "        {'soda', 'chicken strips', 'shake', 'burger', 'cookie', 'fries'} ?\n",
      " Would you like Anything else? YES/NO\n",
      "Okay so you want: \n",
      "cookie\n",
      "soda\n",
      "Your order on its way Thank you\n"
     ]
    }
   ],
   "source": [
    "MENU = {'soda', 'fries', 'burger', 'shake', 'cookie', 'chicken strips'}\n",
    "\n",
    "def get_order():\n",
    "    current_order = []\n",
    "    while True:\n",
    "        print(f'''What can i get for your please choose from following options:\n",
    "        {MENU} ?''')\n",
    "        order = input()\n",
    "        if order in MENU:\n",
    "            current_order.append(order)\n",
    "        else:\n",
    "            print('I\\'m sorry we dont serve that,')\n",
    "            continue\n",
    "        if is_order_complete(): \n",
    "            return current_order \n",
    "\n",
    "def is_order_complete(): \n",
    "    print(' Would you like Anything else? YES/NO')\n",
    "    choice= input()\n",
    "    if choice == 'no':\n",
    "        return True\n",
    "    elif choice == 'yes':\n",
    "        return False\n",
    "    else:\n",
    "        print('Invalid input')\n",
    "\n",
    "def output_order(order_list):\n",
    "    print('Okay so you want: ')\n",
    "    for order in order_list:\n",
    "        print(order)\n",
    "\n",
    "def main():\n",
    "    order = get_order()\n",
    "    output_order(order)\n",
    "    print('Your order on its way Thank you')   \n",
    "\n",
    "if __name__ == '__main__':\n",
    "    main()            "
   ]
  }
 ],
 "metadata": {
  "interpreter": {
   "hash": "aee8b7b246df8f9039afb4144a1f6fd8d2ca17a180786b69acc140d282b71a49"
  },
  "kernelspec": {
   "display_name": "Python 3.10.0 64-bit",
   "language": "python",
   "name": "python3"
  },
  "language_info": {
   "codemirror_mode": {
    "name": "ipython",
    "version": 3
   },
   "file_extension": ".py",
   "mimetype": "text/x-python",
   "name": "python",
   "nbconvert_exporter": "python",
   "pygments_lexer": "ipython3",
   "version": "3.10.0"
  },
  "orig_nbformat": 4
 },
 "nbformat": 4,
 "nbformat_minor": 2
}

{
 "cells": [
  {
   "cell_type": "markdown",
   "metadata": {},
   "source": [
    "Write a program that allows you to enter 4 numbers and stores them in a file called “Numbers”"
   ]
  },
  {
   "cell_type": "code",
   "execution_count": 2,
   "metadata": {},
   "outputs": [
    {
     "name": "stdout",
     "output_type": "stream",
     "text": [
      "first number is : 3,\n",
      "second number is: 35,\n",
      "third number is : 85\n",
      "fourth number is: 72\n"
     ]
    }
   ],
   "source": [
    "number1 = int(input('Please write a first number'))\n",
    "number2 = int(input('Please write a second number'))\n",
    "number3 = int(input('Please write a third number'))\n",
    "number4 = int(input('Please write a fourth number'))\n",
    "output = f'first number is : {number1},\\nsecond number is: {number2},\\nthird number is : {number3}\\nfourth number is: {number4}'\n",
    "print(output)"
   ]
  },
  {
   "cell_type": "code",
   "execution_count": 3,
   "metadata": {},
   "outputs": [],
   "source": [
    "my_file = open('Numbers.txt', 'w') # Create file and save data\n",
    "my_file.write(output)\n",
    "my_file.close()"
   ]
  },
  {
   "cell_type": "code",
   "execution_count": 4,
   "metadata": {},
   "outputs": [
    {
     "name": "stdout",
     "output_type": "stream",
     "text": [
      "first number is : 3,\n",
      "second number is: 35,\n",
      "third number is : 85\n",
      "fourth number is: 72\n"
     ]
    }
   ],
   "source": [
    "with open('Numbers.txt', 'r') as myfile:   # Read data\n",
    "    data = myfile.read()\n",
    "myfile.close()\n",
    "print(data) "
   ]
  },
  {
   "cell_type": "code",
   "execution_count": 5,
   "metadata": {},
   "outputs": [],
   "source": [
    "my_file = open('Numbers.txt', 'a')    #Append a Data\n",
    "my_file.write('\\n''Hey this is my new text!')\n",
    "my_file.close()"
   ]
  },
  {
   "cell_type": "code",
   "execution_count": 6,
   "metadata": {},
   "outputs": [
    {
     "name": "stdout",
     "output_type": "stream",
     "text": [
      "first number is : 3,\n",
      "second number is: 35,\n",
      "third number is : 85\n",
      "fourth number is: 72\n",
      "Hey this is my new text!\n"
     ]
    }
   ],
   "source": [
    "with open('Numbers.txt','r') as myfile:   #Read Data\n",
    "    data = myfile.read()\n",
    "myfile.close()\n",
    "print(data)"
   ]
  },
  {
   "cell_type": "markdown",
   "metadata": {},
   "source": [
    "•Ask the user for their target grade and print this with their mark\n",
    "•If their target grade > exam grade display a suitable message\n",
    "•If their target grade = exam grade display a suitable message\n",
    "•If their target grade < exam grade display a suitable message"
   ]
  },
  {
   "cell_type": "code",
   "execution_count": 2,
   "metadata": {},
   "outputs": [
    {
     "name": "stdout",
     "output_type": "stream",
     "text": [
      "You need to work harder\n",
      "your grade is B and your aim is A*\n"
     ]
    }
   ],
   "source": [
    "grade = input('What is your grade? ') \n",
    "target = input('Whats your target grade ? ')\n",
    "\n",
    "def mark_grade(target , grade):\n",
    "  if target == grade:\n",
    "    print(f'You achieved your goal! your grade is:  {grade}')\n",
    "  elif target == 'A*' and grade =='A':\n",
    "    print('You need to work bit harder') \n",
    "    print(f'Your grade is {grade} and your aim is: {target}')\n",
    "  elif target == 'A' and grade =='A*': \n",
    "    print(f'You got higher then your target!, your target is: {target} and your grade is: {grade}')\n",
    "  elif target < grade :\n",
    "    print('You need to work harder')\n",
    "    print(f'your grade is {grade} and your aim is {target}')\n",
    "  else:\n",
    "    print(f'You got higher than you aim Well done your grade is{grade}')\n",
    "\n",
    "mark_grade(target, grade)      "
   ]
  },
  {
   "cell_type": "markdown",
   "metadata": {},
   "source": [
    "1- Create a 1D array of numbers from 0 to 9"
   ]
  },
  {
   "cell_type": "code",
   "execution_count": null,
   "metadata": {},
   "outputs": [],
   "source": [
    "import numpy as np\n",
    "\n",
    "array = np.arange(0,9)\n",
    "print(array)"
   ]
  },
  {
   "cell_type": "markdown",
   "metadata": {},
   "source": [
    "2- Create a 3×3 NumPy array of allBoolean value Trues"
   ]
  },
  {
   "cell_type": "code",
   "execution_count": null,
   "metadata": {},
   "outputs": [],
   "source": [
    "import numpy as np\n",
    "\n",
    "only_ones = np.ones((3,3))\n",
    "print(only_ones)"
   ]
  },
  {
   "cell_type": "markdown",
   "metadata": {},
   "source": [
    "3- Extract all odd numbers from array of 1-10"
   ]
  },
  {
   "cell_type": "code",
   "execution_count": null,
   "metadata": {},
   "outputs": [],
   "source": [
    "import numpy as np\n",
    "\n",
    "array = np.arange(1,10,2)\n",
    "print(array)"
   ]
  },
  {
   "cell_type": "markdown",
   "metadata": {},
   "source": [
    "4- Replace all odd numbers in an array of 1-10 with the value -1"
   ]
  },
  {
   "cell_type": "code",
   "execution_count": null,
   "metadata": {},
   "outputs": [],
   "source": [
    "import numpy as np\n",
    "\n",
    "replace = np.arange(1, 10, 2)  \n",
    "replace[replace%2==1] = -1        \n",
    "print (replace) "
   ]
  },
  {
   "cell_type": "markdown",
   "metadata": {},
   "source": [
    "5- Convert a 1D array to a 2D array with 2rows"
   ]
  },
  {
   "cell_type": "code",
   "execution_count": null,
   "metadata": {},
   "outputs": [],
   "source": [
    "import numpy as np\n",
    "\n",
    "array = np.array([1,2,3,4,5,6,7,8,9,10])\n",
    "new_array = array.reshape(-1,2)\n",
    "print(new_array)"
   ]
  },
  {
   "cell_type": "markdown",
   "metadata": {},
   "source": [
    "6- Create two arrays a and b, stack these two arrays vertically use the  np.dot and np.sum to calculatetotals"
   ]
  },
  {
   "cell_type": "code",
   "execution_count": null,
   "metadata": {},
   "outputs": [],
   "source": [
    "import numpy as np\n",
    "\n",
    "x = np.arange(1,10).reshape(3,3)\n",
    "y = np.arange(10,19).reshape(3,3)\n",
    "z = np.dot(x,y)\n",
    "print(z)"
   ]
  },
  {
   "cell_type": "code",
   "execution_count": null,
   "metadata": {},
   "outputs": [],
   "source": [
    "import numpy as np\n",
    "\n",
    "x = np.arange(1,10).reshape(3,3)\n",
    "y = np.arange(10,19).reshape(3,3)\n",
    "z = np.dot(x,y)\n",
    "sum = np.sum(z)\n",
    "print(sum)"
   ]
  },
  {
   "cell_type": "markdown",
   "metadata": {},
   "source": [
    "Extension:\n",
    "1.Create the following pattern without hardcoding. Use only NumPy  functions."
   ]
  },
  {
   "cell_type": "code",
   "execution_count": null,
   "metadata": {},
   "outputs": [],
   "source": [
    "import numpy as np\n",
    "arr = np.array([1,2,3])\n",
    "print(np.r_[np.repeat(arr,3), np.tile(arr,3)])"
   ]
  },
  {
   "cell_type": "markdown",
   "metadata": {},
   "source": [
    "2. In two arrays a ( 1,2,3,4,5) and b ( 4,5,6,7,8,9) –remove allrepeating  items present in arrayb"
   ]
  },
  {
   "cell_type": "code",
   "execution_count": null,
   "metadata": {},
   "outputs": [],
   "source": [
    "import numpy as np\n",
    "\n",
    "arr1 = np.array([1,2,3,4,5])\n",
    "arr2 = np.array([4,5,6,7,8,9])\n",
    "print(np.setdiff1d(arr1,arr2))\n"
   ]
  },
  {
   "cell_type": "markdown",
   "metadata": {},
   "source": [
    "3. Get all items between 3and 7from arr1 and arr2 and sum themtogether"
   ]
  },
  {
   "cell_type": "code",
   "execution_count": null,
   "metadata": {},
   "outputs": [],
   "source": [
    "import numpy as np\n",
    "\n",
    "arr1 = np.array([1,2,3,4,5])\n",
    "arr2 = np.array([4,5,6,7,8,9])\n",
    "arr3 = np.concatenate((arr1,arr2))\n",
    "print(arr3)\n",
    "output = arr3[np.logical_and(arr3>3, arr3<7)].sum()\n",
    "print(output)"
   ]
  }
 ],
 "metadata": {
  "interpreter": {
   "hash": "aee8b7b246df8f9039afb4144a1f6fd8d2ca17a180786b69acc140d282b71a49"
  },
  "kernelspec": {
   "display_name": "Python 3.10.0 64-bit",
   "language": "python",
   "name": "python3"
  },
  "language_info": {
   "codemirror_mode": {
    "name": "ipython",
    "version": 3
   },
   "file_extension": ".py",
   "mimetype": "text/x-python",
   "name": "python",
   "nbconvert_exporter": "python",
   "pygments_lexer": "ipython3",
   "version": "3.10.0"
  },
  "orig_nbformat": 4
 },
 "nbformat": 4,
 "nbformat_minor": 2
}

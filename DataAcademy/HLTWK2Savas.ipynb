{
 "cells": [
  {
   "cell_type": "markdown",
   "metadata": {},
   "source": [
    "Task 1\n",
    "Write a program that does the following:\n",
    "a) Stores a random number (1-10) in a variable – see hint below.\n",
    "b) Asks a user for their name and stores this in a variable.\n",
    "c) Asks a user to guess the number between 1 and 10.\n",
    "d) Tells the user whether they have guessed correctly."
   ]
  },
  {
   "cell_type": "code",
   "execution_count": 110,
   "metadata": {},
   "outputs": [
    {
     "name": "stdout",
     "output_type": "stream",
     "text": [
      "Savas You got it wrong, it was not: 10 it was: 3\n"
     ]
    }
   ],
   "source": [
    "import random\n",
    "\n",
    "random_number = random.randint(1,10)\n",
    "user_name = input('What\\'s your username?')\n",
    "guess_number = int(input('Please Guess a number between 1 to 10'))\n",
    "\n",
    "if random_number == guess_number:\n",
    "    print(f'{user_name} You got it correct!, well done! You picked number: {guess_number}')\n",
    "else:\n",
    "    print(f'{user_name} You got it wrong, it was not: {guess_number} it was: {random_number}')    "
   ]
  },
  {
   "cell_type": "markdown",
   "metadata": {},
   "source": [
    "Task 2\n",
    "Write a program that asks a user for their favourite number between 1 and 100 and then tells them a joke based on the number. You should use a minimum of 3 jokes.\n"
   ]
  },
  {
   "cell_type": "code",
   "execution_count": 99,
   "metadata": {},
   "outputs": [
    {
     "name": "stdout",
     "output_type": "stream",
     "text": [
      "What’s worse than finding a worm in your apple?\n",
      "Finding half a worm.\n"
     ]
    }
   ],
   "source": [
    "\n",
    "user_favorite_number = input(''''What's your favourite number between 1 to 100 ?''')\n",
    "\n",
    "if int(user_favorite_number) in range(1,35):\n",
    "    print('''What does a cloud wear under his raincoat?\n",
    "Thunderwear.''')\n",
    "elif int(user_favorite_number) in range(35,70):\n",
    "    print('''How does a scientist freshen her breath?\n",
    "With experi-mints.''')    \n",
    "elif int(user_favorite_number) in range(75,100):\n",
    "    print('''What’s worse than finding a worm in your apple?\n",
    "Finding half a worm.''')\n",
    "else:\n",
    "    print('Please choose number between 1 to 100')                "
   ]
  },
  {
   "cell_type": "markdown",
   "metadata": {},
   "source": [
    "Task 3\n",
    "Write a program that allows user to enter their favourite starter, main course, dessert and drink.Concatenate these and output a message which says – “Your favourite meal is  ………with a glass of….”"
   ]
  },
  {
   "cell_type": "code",
   "execution_count": 112,
   "metadata": {},
   "outputs": [
    {
     "name": "stdout",
     "output_type": "stream",
     "text": [
      "Your favourite meal is, Garlic bread,as a starter ,Chicken, as a main and Baklava, as your dessert. With a drink of,Water.\n"
     ]
    }
   ],
   "source": [
    "fav_starter = input('What\\'s your favourite starter?')\n",
    "fav_main = input('What\\'s your favourite main?')\n",
    "fav_desert = input('What\\'s your favourite desert?')\n",
    "fav_drink = input('What\\'s your favourite drink?')\n",
    "print(f\"Your favourite meal is, {fav_starter},as a starter ,{fav_main}, as a main and {fav_desert}, as your dessert. With a drink of,{fav_drink}.\")\n"
   ]
  },
  {
   "cell_type": "markdown",
   "metadata": {},
   "source": [
    "Task 4\n",
    "A motorbike costs £2000 and loses 10% of its value every year. Using a loop, print the value of the bike every following year until it falls below £1000.\n"
   ]
  },
  {
   "cell_type": "code",
   "execution_count": 109,
   "metadata": {},
   "outputs": [
    {
     "name": "stdout",
     "output_type": "stream",
     "text": [
      "The bike is worth in 2021:  2000\n",
      "The bike is worth in 2022:  1800.0\n",
      "The bike is worth in 2023:  1620.0\n",
      "The bike is worth in 2024:  1458.0\n",
      "The bike is worth in 2025:  1312.2\n",
      "The bike is worth in 2026:  1180.98\n",
      "The bike is worth in 2027:  1062.882\n"
     ]
    }
   ],
   "source": [
    "motorbike_cost = 2000\n",
    "year = 2021\n",
    "while motorbike_cost > 1000:\n",
    "    print(f'The bike is worth in {year}: ', motorbike_cost)\n",
    "    motorbike_cost = motorbike_cost * 0.9\n",
    "    year += 1\n"
   ]
  },
  {
   "cell_type": "markdown",
   "metadata": {},
   "source": [
    "Task 5\n",
    "Write a program which will ask for two numbers from a user. Then offer a menu to the user giving them a choice of operator:e.g. – Enter “a” if you want to add“b” if you want to subtract.\n",
    "Include +, -, /, *, ** square (to the power of). Once the user has selected which operator they wish to use, perform the calculation."
   ]
  },
  {
   "cell_type": "code",
   "execution_count": 116,
   "metadata": {},
   "outputs": [
    {
     "name": "stdout",
     "output_type": "stream",
     "text": [
      "Result:  25\n"
     ]
    }
   ],
   "source": [
    "first_number = int(input('Pick a number!'))\n",
    "second_number = int(input('Pick another Number!'))\n",
    "pick_operator = input('Please pick a operator to use')\n",
    "\n",
    "if pick_operator == '+':\n",
    "    print('Result: ', first_number + second_number)\n",
    "elif pick_operator == '-':\n",
    "    print('Result: ',first_number - second_number)\n",
    "elif pick_operator == '*':\n",
    "    print('Result: ',first_number * second_number)\n",
    "elif pick_operator == '**':\n",
    "    print('Result: ',first_number ** second_number)    \n",
    "elif pick_operator == '/':\n",
    "    print('Result: ',first_number / second_number)\n",
    "elif pick_operator == '//':\n",
    "    print('Result: ',first_number // second_number)    \n",
    "elif pick_operator == '%':\n",
    "    print('Result: ',first_number % second_number)\n",
    "else: \n",
    "    print(\"An appropriate operator was not selected!\")            \n"
   ]
  }
 ],
 "metadata": {
  "interpreter": {
   "hash": "aee8b7b246df8f9039afb4144a1f6fd8d2ca17a180786b69acc140d282b71a49"
  },
  "kernelspec": {
   "display_name": "Python 3.10.0 64-bit",
   "language": "python",
   "name": "python3"
  },
  "language_info": {
   "codemirror_mode": {
    "name": "ipython",
    "version": 3
   },
   "file_extension": ".py",
   "mimetype": "text/x-python",
   "name": "python",
   "nbconvert_exporter": "python",
   "pygments_lexer": "ipython3",
   "version": "3.10.0"
  },
  "orig_nbformat": 4
 },
 "nbformat": 4,
 "nbformat_minor": 2
}
